{
 "cells": [
  {
   "cell_type": "markdown",
   "id": "066d3937",
   "metadata": {},
   "source": [
    "# 🧠 Taller de NumPy - Fundamentos y Práctica en Python\n",
    "\n",
    "**Autor:** Joiner Pérez Rivera  \n",
    "**Curso:** Redes Neuronales y Aprendizaje Profundo  \n",
    "**Profesor:** José Francisco Ruiz Muñoz  \n",
    "**Fecha:** Abril 2025  \n",
    "\n",
    "---\n",
    "\n",
    "## 🎯 Propósito del Cuaderno\n",
    "\n",
    "Este cuaderno interactivo tiene como objetivo aplicar y reforzar los conceptos fundamentales de la librería `NumPy` en Python. Se abordarán:\n",
    "\n",
    "- Ejemplos prácticos de indexación, slicing, operaciones matriciales y tensores multidimensionales.\n",
    "- Definición y uso de funciones y clases en Python.\n",
    "- Resolución de ejercicios con razonamiento propio.\n",
    "- Visualización de procesos, como el descenso por gradiente en regresión lineal.\n",
    "- Organización clara para facilitar el aprendizaje.\n",
    "\n",
    "A lo largo de este taller, se explicará cada bloque de código y se acompañará con los resultados esperados o interpretaciones pertinentes.\n",
    "\n",
    "¡Comencemos! 🚀\n",
    "\n"
   ]
  },
  {
   "cell_type": "markdown",
   "id": "f1d039eb",
   "metadata": {},
   "source": [
    "#### 1.1 Indexación básica\n",
    "\n",
    "Creamos un arreglo unidimensional y accedemos a un elemento específico usando su índice.\n"
   ]
  },
  {
   "cell_type": "code",
   "execution_count": 3,
   "id": "71139f39",
   "metadata": {},
   "outputs": [
    {
     "name": "stdout",
     "output_type": "stream",
     "text": [
      "Elemento en la posición 2: 30\n"
     ]
    }
   ],
   "source": [
    "import numpy as np\n",
    "\n",
    "mi_array = np.array([10, 20, 30, 40, 50])\n",
    "print(\"Elemento en la posición 2:\", mi_array[2])  # Deberia decir: 30\n"
   ]
  },
  {
   "cell_type": "markdown",
   "id": "b12b261c",
   "metadata": {},
   "source": [
    "#### 1.2 Slicing de arrays 1D\n",
    "\n",
    "Extraemos una porción del arreglo original usando notación de rangos.\n"
   ]
  },
  {
   "cell_type": "code",
   "execution_count": 4,
   "id": "38bb6597",
   "metadata": {},
   "outputs": [
    {
     "name": "stdout",
     "output_type": "stream",
     "text": [
      "Slicing del índice 1 al 3: [20 30 40]\n"
     ]
    }
   ],
   "source": [
    "print(\"Slicing del índice 1 al 3:\", mi_array[1:4])  # Esperado: [20 30 40]\n"
   ]
  },
  {
   "cell_type": "markdown",
   "id": "464cafb9",
   "metadata": {},
   "source": [
    "#### 1.3 Indexación en matrices 2D\n",
    "\n",
    "Accedemos a un valor específico en una matriz 2D (fila, columna).\n"
   ]
  },
  {
   "cell_type": "code",
   "execution_count": 5,
   "id": "bc8a2c17",
   "metadata": {},
   "outputs": [
    {
     "name": "stdout",
     "output_type": "stream",
     "text": [
      "Elemento en la posición [1, 2]: 6\n"
     ]
    }
   ],
   "source": [
    "matriz = np.array([[1, 2, 3], [4, 5, 6], [7, 8, 9]])\n",
    "print(\"Elemento en la posición [1, 2]:\", matriz[1, 2])  # Deberia decir: 6\n"
   ]
  },
  {
   "cell_type": "markdown",
   "id": "9525ba24",
   "metadata": {},
   "source": [
    "#### 1.4 Slicing en matrices 2D\n",
    "\n",
    "Seleccionamos submatrices por rangos de filas y columnas.\n"
   ]
  },
  {
   "cell_type": "code",
   "execution_count": 6,
   "id": "fadaa12e",
   "metadata": {},
   "outputs": [
    {
     "name": "stdout",
     "output_type": "stream",
     "text": [
      "Submatriz de las primeras dos filas y columnas 1 en adelante:\n",
      " [[2 3]\n",
      " [5 6]]\n"
     ]
    }
   ],
   "source": [
    "print(\"Submatriz de las primeras dos filas y columnas 1 en adelante:\\n\", matriz[:2, 1:])\n",
    "# Esperado: [[2 3] [5 6]]\n"
   ]
  },
  {
   "cell_type": "markdown",
   "id": "4256a967",
   "metadata": {},
   "source": [
    "#### 1.5 Indexación en tensores 3D\n",
    "\n",
    "Trabajamos con arreglos tridimensionales y accedemos a datos en distintas dimensiones.\n",
    "\n"
   ]
  },
  {
   "cell_type": "code",
   "execution_count": 7,
   "id": "9d1110d9",
   "metadata": {},
   "outputs": [
    {
     "name": "stdout",
     "output_type": "stream",
     "text": [
      "Elemento [1, 0, 2]: 9\n",
      "Segundo bloque completo:\n",
      " [[ 7  8  9]\n",
      " [10 11 12]]\n"
     ]
    }
   ],
   "source": [
    "\n",
    "bloque = np.array([\n",
    "    [[1, 2, 3], [4, 5, 6]],\n",
    "    [[7, 8, 9], [10, 11, 12]],\n",
    "    [[13, 14, 15], [16, 17, 18]]\n",
    "])\n",
    "\n",
    "print(\"Elemento [1, 0, 2]:\", bloque[1, 0, 2])\n",
    "print(\"Segundo bloque completo:\\n\", bloque[1])\n"
   ]
  },
  {
   "cell_type": "markdown",
   "id": "2157163d",
   "metadata": {},
   "source": [
    "#### 1.6 Slicing en tensor 3D generado con arange\n"
   ]
  },
  {
   "cell_type": "code",
   "execution_count": 8,
   "id": "fecac2df",
   "metadata": {},
   "outputs": [
    {
     "name": "stdout",
     "output_type": "stream",
     "text": [
      "Segundo bloque (bloque[1]):\n",
      " [[ 9 10 11]\n",
      " [12 13 14]\n",
      " [15 16 17]]\n",
      "Segunda fila en cada bloque:\n",
      " [[ 3  4  5]\n",
      " [12 13 14]\n",
      " [21 22 23]]\n",
      "Tercer columna en cada bloque:\n",
      " [[ 2  5  8]\n",
      " [11 14 17]\n",
      " [20 23 26]]\n"
     ]
    }
   ],
   "source": [
    "bloque = np.arange(27).reshape(3, 3, 3)\n",
    "\n",
    "print(\"Segundo bloque (bloque[1]):\\n\", bloque[1])\n",
    "print(\"Segunda fila en cada bloque:\\n\", bloque[:, 1, :])\n",
    "print(\"Tercer columna en cada bloque:\\n\", bloque[:, :, 2])\n"
   ]
  },
  {
   "cell_type": "markdown",
   "id": "b9445989",
   "metadata": {},
   "source": [
    "#### 1.7 Indexación en tensores 4D\n"
   ]
  },
  {
   "cell_type": "code",
   "execution_count": 9,
   "id": "1376a868",
   "metadata": {},
   "outputs": [
    {
     "name": "stdout",
     "output_type": "stream",
     "text": [
      "Elemento en [1, 2, 0, 3]: 43\n",
      "Subtensor de [1, 2]:\n",
      " [[40 41 42 43]\n",
      " [44 45 46 47]]\n"
     ]
    }
   ],
   "source": [
    "bloque = np.arange(48).reshape(2, 3, 2, 4)\n",
    "\n",
    "print(\"Elemento en [1, 2, 0, 3]:\", bloque[1, 2, 0, 3])\n",
    "print(\"Subtensor de [1, 2]:\\n\", bloque[1, 2])\n"
   ]
  },
  {
   "cell_type": "markdown",
   "id": "09a0855f",
   "metadata": {},
   "source": [
    "#### 1.8 Slicing en tensor 4D\n"
   ]
  },
  {
   "cell_type": "code",
   "execution_count": 10,
   "id": "8c797afa",
   "metadata": {},
   "outputs": [
    {
     "name": "stdout",
     "output_type": "stream",
     "text": [
      "Segundo conjunto (bloque[1]):\n",
      " [[[24 25 26 27]\n",
      "  [28 29 30 31]]\n",
      "\n",
      " [[32 33 34 35]\n",
      "  [36 37 38 39]]\n",
      "\n",
      " [[40 41 42 43]\n",
      "  [44 45 46 47]]]\n",
      "Últimos elementos de la segunda dimensión:\n",
      " [[[16 17 18 19]\n",
      "  [20 21 22 23]]\n",
      "\n",
      " [[40 41 42 43]\n",
      "  [44 45 46 47]]]\n",
      "Solo los primeros planos:\n",
      " [[[ 0  1  2  3]\n",
      "  [ 8  9 10 11]\n",
      "  [16 17 18 19]]\n",
      "\n",
      " [[24 25 26 27]\n",
      "  [32 33 34 35]\n",
      "  [40 41 42 43]]]\n"
     ]
    }
   ],
   "source": [
    "print(\"Segundo conjunto (bloque[1]):\\n\", bloque[1])\n",
    "print(\"Últimos elementos de la segunda dimensión:\\n\", bloque[:, 2, :, :])\n",
    "print(\"Solo los primeros planos:\\n\", bloque[:, :, 0, :])\n"
   ]
  },
  {
   "cell_type": "markdown",
   "id": "9b5ee153",
   "metadata": {},
   "source": [
    "#### 1.9 Suma de matrices\n"
   ]
  },
  {
   "cell_type": "code",
   "execution_count": 11,
   "id": "3c99eee8",
   "metadata": {},
   "outputs": [
    {
     "name": "stdout",
     "output_type": "stream",
     "text": [
      "Suma:\n",
      " [[ 6  8]\n",
      " [10 12]]\n"
     ]
    }
   ],
   "source": [
    "matriz_a = np.array([[1, 2], [3, 4]])\n",
    "matriz_b = np.array([[5, 6], [7, 8]])\n",
    "resultado = matriz_a + matriz_b\n",
    "print(\"Suma:\\n\", resultado)\n"
   ]
  },
  {
   "cell_type": "markdown",
   "id": "05ad5198",
   "metadata": {},
   "source": [
    "#### 1.10 Multiplicación de matrices\n"
   ]
  },
  {
   "cell_type": "code",
   "execution_count": 12,
   "id": "8765727c",
   "metadata": {},
   "outputs": [
    {
     "name": "stdout",
     "output_type": "stream",
     "text": [
      "Producto punto:\n",
      " [[19 22]\n",
      " [43 50]]\n"
     ]
    }
   ],
   "source": [
    "resultado = np.dot(matriz_a, matriz_b)\n",
    "print(\"Producto punto:\\n\", resultado)\n"
   ]
  },
  {
   "cell_type": "markdown",
   "id": "65aa1651",
   "metadata": {},
   "source": [
    "#### 1.11 Transposición de matrices\n"
   ]
  },
  {
   "cell_type": "code",
   "execution_count": 13,
   "id": "106ab3c7",
   "metadata": {},
   "outputs": [
    {
     "name": "stdout",
     "output_type": "stream",
     "text": [
      "Transpuesta:\n",
      " [[1 3]\n",
      " [2 4]]\n"
     ]
    }
   ],
   "source": [
    "print(\"Transpuesta:\\n\", np.transpose(matriz_a))\n"
   ]
  },
  {
   "cell_type": "markdown",
   "id": "59d1e7f5",
   "metadata": {},
   "source": [
    "#### 1.12 Determinante e inversa\n"
   ]
  },
  {
   "cell_type": "code",
   "execution_count": 14,
   "id": "54b539a6",
   "metadata": {},
   "outputs": [
    {
     "name": "stdout",
     "output_type": "stream",
     "text": [
      "Determinante: -2.0000000000000004\n",
      "Inversa:\n",
      " [[-2.   1. ]\n",
      " [ 1.5 -0.5]]\n"
     ]
    }
   ],
   "source": [
    "det = np.linalg.det(matriz_a)\n",
    "inv = np.linalg.inv(matriz_a)\n",
    "\n",
    "print(\"Determinante:\", det)\n",
    "print(\"Inversa:\\n\", inv)\n"
   ]
  },
  {
   "cell_type": "markdown",
   "id": "ca63d8f0",
   "metadata": {},
   "source": [
    "#### 1.13 Eigenvalores y eigenvectores\n"
   ]
  },
  {
   "cell_type": "code",
   "execution_count": 15,
   "id": "9f8079b6",
   "metadata": {},
   "outputs": [
    {
     "name": "stdout",
     "output_type": "stream",
     "text": [
      "Eigenvalores: [2.00000002 1.99999998]\n",
      "Eigenvectores:\n",
      " [[-0.70710677 -0.70710679]\n",
      " [ 0.70710679  0.70710677]]\n"
     ]
    }
   ],
   "source": [
    "matriz_eigen = np.array([[1, -1], [1, 3]])\n",
    "valores, vectores = np.linalg.eig(matriz_eigen)\n",
    "\n",
    "print(\"Eigenvalores:\", valores)\n",
    "print(\"Eigenvectores:\\n\", vectores)\n"
   ]
  },
  {
   "cell_type": "markdown",
   "id": "c4db8f0b",
   "metadata": {},
   "source": [
    "#### 1.14 Resolver sistema de ecuaciones\n"
   ]
  },
  {
   "cell_type": "code",
   "execution_count": 16,
   "id": "491b8fdb",
   "metadata": {},
   "outputs": [
    {
     "name": "stdout",
     "output_type": "stream",
     "text": [
      "Solución: [1. 1.]\n"
     ]
    }
   ],
   "source": [
    "coef = np.array([[2, 1], [1, 1]])\n",
    "res = np.array([3, 2])\n",
    "\n",
    "sol = np.linalg.solve(coef, res)\n",
    "print(\"Solución:\", sol)\n"
   ]
  },
  {
   "cell_type": "markdown",
   "id": "369028e5",
   "metadata": {},
   "source": [
    "#### 2.1 Función simple\n",
    "\n",
    "Creamos una función que recibe un nombre y devuelve un saludo personalizado.\n"
   ]
  },
  {
   "cell_type": "code",
   "execution_count": 17,
   "id": "a3d480dc",
   "metadata": {},
   "outputs": [
    {
     "name": "stdout",
     "output_type": "stream",
     "text": [
      "Hola, Jessica!\n"
     ]
    }
   ],
   "source": [
    "def saludar(nombre):\n",
    "    return \"Hola, \" + nombre + \"!\"\n",
    "\n",
    "print(saludar(\"Jessica\"))  # Resultado esperado: Hola, Jessica!\n"
   ]
  },
  {
   "cell_type": "markdown",
   "id": "552a72bd",
   "metadata": {},
   "source": [
    "#### 2.2 Función con parámetros y retorno\n",
    "\n",
    "Sumamos dos números y devolvemos el resultado.\n"
   ]
  },
  {
   "cell_type": "code",
   "execution_count": 18,
   "id": "dce3b5da",
   "metadata": {},
   "outputs": [
    {
     "name": "stdout",
     "output_type": "stream",
     "text": [
      "12\n"
     ]
    }
   ],
   "source": [
    "def sumar_numeros(a, b):\n",
    "    return a + b\n",
    "\n",
    "print(sumar_numeros(5, 7))  # Resultado esperado: 12\n"
   ]
  },
  {
   "cell_type": "markdown",
   "id": "8d2a361f",
   "metadata": {},
   "source": [
    "#### 2.3 Función con parámetro por defecto\n",
    "\n",
    "Calculamos una potencia con un exponente por defecto de 2.\n"
   ]
  },
  {
   "cell_type": "code",
   "execution_count": 19,
   "id": "d6b76ad4",
   "metadata": {},
   "outputs": [
    {
     "name": "stdout",
     "output_type": "stream",
     "text": [
      "9\n",
      "8\n"
     ]
    }
   ],
   "source": [
    "def potencia(base, exponente=2):\n",
    "    return base ** exponente\n",
    "\n",
    "print(potencia(3))      # Resultado esperado: 9\n",
    "print(potencia(2, 3))   # Resultado esperado: 8\n"
   ]
  },
  {
   "cell_type": "markdown",
   "id": "c2930105",
   "metadata": {},
   "source": [
    "#### 2.4 Función con múltiples retornos\n",
    "\n",
    "Devolvemos el valor mínimo y máximo de una lista de números.\n"
   ]
  },
  {
   "cell_type": "code",
   "execution_count": 20,
   "id": "1cb68bb8",
   "metadata": {},
   "outputs": [
    {
     "name": "stdout",
     "output_type": "stream",
     "text": [
      "Mínimo: 2 | Máximo: 9\n"
     ]
    }
   ],
   "source": [
    "def minimo_maximo(numeros):\n",
    "    return min(numeros), max(numeros)\n",
    "\n",
    "valores = [4, 9, 2, 7, 5]\n",
    "minimo, maximo = minimo_maximo(valores)\n",
    "print(\"Mínimo:\", minimo, \"| Máximo:\", maximo)\n"
   ]
  },
  {
   "cell_type": "markdown",
   "id": "535a37c3",
   "metadata": {},
   "source": [
    "#### 2.5 Función con docstring\n",
    "\n",
    "Incluimos una documentación dentro de la función que describe sus parámetros y retorno.\n"
   ]
  },
  {
   "cell_type": "code",
   "execution_count": 21,
   "id": "b190d404",
   "metadata": {},
   "outputs": [],
   "source": [
    "def area_rectangulo(largo, ancho):\n",
    "    \"\"\"\n",
    "    Calcula el área de un rectángulo.\n",
    "\n",
    "    Parámetros:\n",
    "    largo (float): Largo del rectángulo.\n",
    "    ancho (float): Ancho del rectángulo.\n",
    "\n",
    "    Retorna:\n",
    "    float: Área del rectángulo.\n",
    "    \"\"\"\n",
    "    return largo * ancho\n"
   ]
  },
  {
   "cell_type": "markdown",
   "id": "1d9f8db5",
   "metadata": {},
   "source": [
    "#### 2.6 Clase simple\n",
    "\n",
    "Creamos una clase `Perro` con un método para ladrar.\n"
   ]
  },
  {
   "cell_type": "code",
   "execution_count": 22,
   "id": "60ed80de",
   "metadata": {},
   "outputs": [
    {
     "name": "stdout",
     "output_type": "stream",
     "text": [
      "Firulais está ladrando!\n"
     ]
    }
   ],
   "source": [
    "class Perro:\n",
    "    def __init__(self, nombre, edad):\n",
    "        self.nombre = nombre\n",
    "        self.edad = edad\n",
    "\n",
    "    def ladrar(self):\n",
    "        print(f\"{self.nombre} está ladrando!\")\n",
    "\n",
    "mi_perro = Perro(\"Firulais\", 3)\n",
    "mi_perro.ladrar()\n"
   ]
  },
  {
   "cell_type": "markdown",
   "id": "a5c20bb2",
   "metadata": {},
   "source": [
    "#### 2.7 Clase con métodos y atributos\n",
    "\n",
    "Agregamos calificaciones a un estudiante y calculamos su promedio.\n"
   ]
  },
  {
   "cell_type": "code",
   "execution_count": 23,
   "id": "93961bd9",
   "metadata": {},
   "outputs": [
    {
     "name": "stdout",
     "output_type": "stream",
     "text": [
      "Promedio de Laura: 88.5\n"
     ]
    }
   ],
   "source": [
    "class Estudiante:\n",
    "    def __init__(self, nombre, edad):\n",
    "        self.nombre = nombre\n",
    "        self.edad = edad\n",
    "        self.notas = []\n",
    "\n",
    "    def agregar_nota(self, nota):\n",
    "        self.notas.append(nota)\n",
    "\n",
    "    def promedio(self):\n",
    "        return sum(self.notas) / len(self.notas)\n",
    "\n",
    "alumno1 = Estudiante(\"Laura\", 18)\n",
    "alumno1.agregar_nota(85)\n",
    "alumno1.agregar_nota(92)\n",
    "\n",
    "print(f\"Promedio de {alumno1.nombre}: {alumno1.promedio()}\")\n"
   ]
  },
  {
   "cell_type": "markdown",
   "id": "5a8b77b5",
   "metadata": {},
   "source": [
    "#### 2.8 Herencia\n",
    "\n",
    "Creamos una clase base `Animalito` y las subclases `Gato` y `Perro`, con comportamientos personalizados.\n"
   ]
  },
  {
   "cell_type": "code",
   "execution_count": 24,
   "id": "893d45e7",
   "metadata": {},
   "outputs": [
    {
     "name": "stdout",
     "output_type": "stream",
     "text": [
      "Misifú dice Miau!\n",
      "Rex dice Guau!\n"
     ]
    }
   ],
   "source": [
    "class Animalito:\n",
    "    def __init__(self, nombre):\n",
    "        self.nombre = nombre\n",
    "\n",
    "    def hablar(self):\n",
    "        pass\n",
    "\n",
    "class Gato(Animalito):\n",
    "    def hablar(self):\n",
    "        print(f\"{self.nombre} dice Miau!\")\n",
    "\n",
    "class Perro(Animalito):\n",
    "    def hablar(self):\n",
    "        print(f\"{self.nombre} dice Guau!\")\n",
    "\n",
    "gato_mascota = Gato(\"Misifú\")\n",
    "perro_mascota = Perro(\"Rex\")\n",
    "\n",
    "gato_mascota.hablar()\n",
    "perro_mascota.hablar()\n"
   ]
  },
  {
   "cell_type": "markdown",
   "id": "cd3a75cc",
   "metadata": {},
   "source": [
    "#### 3.1 Indexing Arrays in NumPy\n",
    "\n",
    "Trabajamos con un arreglo de NumPy para practicar el indexado y el slicing de datos."
   ]
  },
  {
   "cell_type": "code",
   "execution_count": 25,
   "id": "a6f04ae3",
   "metadata": {},
   "outputs": [
    {
     "name": "stdout",
     "output_type": "stream",
     "text": [
      "Tercer elemento: 1\n",
      "Slicing del índice 1 al 3: [7 1 9]\n",
      "Array actualizado: [ 3  7  1 12  5]\n"
     ]
    }
   ],
   "source": [
    "import numpy as np\n",
    "\n",
    "# Creamos el array\n",
    "arr = np.array([3, 7, 1, 9, 5])\n",
    "\n",
    "# a) Recuperamos el tercer elemento del array (índice 2)\n",
    "print(\"Tercer elemento:\", arr[2])\n",
    "\n",
    "# b) Obtenemos los elementos desde el índice 1 hasta el 3 (no incluye el 4)\n",
    "print(\"Slicing del índice 1 al 3:\", arr[1:4])\n",
    "\n",
    "# c) Modificamos el cuarto elemento (índice 3) y lo cambiamos a 12\n",
    "arr[3] = 12\n",
    "print(\"Array actualizado:\", arr)\n"
   ]
  },
  {
   "cell_type": "markdown",
   "id": "d8ce1707",
   "metadata": {},
   "source": [
    "### 3.1.2 Matriz 2D con indexado\n",
    "Trabajamos con una matriz 3x3 para acceder elementos y submatrices."
   ]
  },
  {
   "cell_type": "code",
   "execution_count": 26,
   "id": "487b0c5e",
   "metadata": {},
   "outputs": [
    {
     "name": "stdout",
     "output_type": "stream",
     "text": [
      "Elemento [1,2]: 6\n",
      "Submatriz (2 filas):\n",
      " [[1 2 3]\n",
      " [4 5 6]]\n"
     ]
    }
   ],
   "source": [
    "matrix = np.array([\n",
    "    [1, 2, 3],\n",
    "    [4, 5, 6],\n",
    "    [7, 8, 9]\n",
    "])\n",
    "\n",
    "# a) Elemento de la segunda fila, tercera columna\n",
    "print(\"Elemento [1,2]:\", matrix[1, 2])\n",
    "\n",
    "# b) Submatriz de las dos primeras filas\n",
    "print(\"Submatriz (2 filas):\\n\", matrix[:2, :])\n"
   ]
  },
  {
   "cell_type": "markdown",
   "id": "99d6050e",
   "metadata": {},
   "source": [
    "### 3.2 Indexing and Slicing Higher-Dimensional Tensors\n",
    "Trabajamos con un tensor 3D (3 bloques de 3x4)."
   ]
  },
  {
   "cell_type": "code",
   "execution_count": 27,
   "id": "9fa4284c",
   "metadata": {},
   "outputs": [
    {
     "name": "stdout",
     "output_type": "stream",
     "text": [
      "Elemento (1, 0, 2): 15\n",
      "Segundo bloque:\n",
      " [[13 14 15 16]\n",
      " [17 18 19 20]\n",
      " [21 22 23 24]]\n",
      "Última fila de los bloques 1 y 2:\n",
      " [[21 22 23 24]\n",
      " [33 34 35 36]]\n",
      "Elemento (2, 1, 3): 32\n",
      "Primera fila de los bloques 1 y 2:\n",
      " [[13 14 15 16]\n",
      " [25 26 27 28]]\n"
     ]
    }
   ],
   "source": [
    "tensor = np.array([\n",
    "    [[1, 2, 3, 4],\n",
    "     [5, 6, 7, 8],\n",
    "     [9, 10, 11, 12]],\n",
    "\n",
    "    [[13, 14, 15, 16],\n",
    "     [17, 18, 19, 20],\n",
    "     [21, 22, 23, 24]],\n",
    "\n",
    "    [[25, 26, 27, 28],\n",
    "     [29, 30, 31, 32],\n",
    "     [33, 34, 35, 36]]\n",
    "])\n",
    "\n",
    "# 1. Elemento (1, 0, 2)\n",
    "print(\"Elemento (1, 0, 2):\", tensor[1, 0, 2])\n",
    "\n",
    "# 2. Segundo bloque completo\n",
    "print(\"Segundo bloque:\\n\", tensor[1])\n",
    "\n",
    "# 3. Última fila de los dos últimos bloques\n",
    "print(\"Última fila de los bloques 1 y 2:\\n\", tensor[1:, 2, :])\n",
    "\n",
    "# 4. Elemento (2, 1, 3)\n",
    "print(\"Elemento (2, 1, 3):\", tensor[2, 1, 3])\n",
    "\n",
    "# 5. Primera fila de los dos últimos bloques\n",
    "print(\"Primera fila de los bloques 1 y 2:\\n\", tensor[1:, 0, :])\n"
   ]
  },
  {
   "cell_type": "markdown",
   "id": "257a49f3",
   "metadata": {},
   "source": [
    "### 3.3 Defining Functions in Python\n",
    "Creamos funciones sencillas con argumentos, retornos y valores por defecto."
   ]
  },
  {
   "cell_type": "code",
   "execution_count": 28,
   "id": "a85d9e15",
   "metadata": {},
   "outputs": [
    {
     "name": "stdout",
     "output_type": "stream",
     "text": [
      "Promedio: 5.5\n",
      "2^3 = 8\n",
      "3^2 = 9\n"
     ]
    }
   ],
   "source": [
    "# 1. Calcular promedio\n",
    "\n",
    "def calculate_average(numbers):\n",
    "    return sum(numbers) / len(numbers)\n",
    "\n",
    "print(\"Promedio:\", calculate_average([4, 7, 2, 9]))\n",
    "\n",
    "# 2. Potencia con exponente opcional\n",
    "\n",
    "def find_power(base, exponent=2):\n",
    "    return base ** exponent\n",
    "\n",
    "print(\"2^3 =\", find_power(2, 3))\n",
    "print(\"3^2 =\", find_power(3))\n"
   ]
  },
  {
   "cell_type": "markdown",
   "id": "47002c95",
   "metadata": {},
   "source": [
    "### 3.4 Implementing Gradient Descent Optimization\n",
    "Aplicamos descenso por gradiente para ajustar una recta a los datos."
   ]
  },
  {
   "cell_type": "code",
   "execution_count": 29,
   "id": "30fd42c8",
   "metadata": {},
   "outputs": [
    {
     "name": "stdout",
     "output_type": "stream",
     "text": [
      "Theta final: [[0.70398823]\n",
      " [2.49889532]]\n"
     ]
    }
   ],
   "source": [
    "import numpy as np\n",
    "import matplotlib.pyplot as plt\n",
    "\n",
    "# Datos\n",
    "X = np.array([1, 2, 3, 4, 5]).reshape(-1, 1)\n",
    "y = np.array([3, 6, 8, 11, 13]).reshape(-1, 1)\n",
    "\n",
    "# Agregar término de sesgo\n",
    "X_b = np.c_[np.ones((len(X), 1)), X]\n",
    "\n",
    "# Inicializar parámetros\n",
    "theta = np.random.randn(2, 1)\n",
    "learning_rate = 0.01\n",
    "n_iterations = 1000\n",
    "\n",
    "# Guardar historia de parámetros\n",
    "theta_history = []\n",
    "\n",
    "# Descenso por gradiente\n",
    "for _ in range(n_iterations):\n",
    "    gradients = 2 / len(X_b) * X_b.T.dot(X_b.dot(theta) - y)\n",
    "    theta = theta - learning_rate * gradients\n",
    "    theta_history.append(theta.copy())\n",
    "\n",
    "print(\"Theta final:\", theta)\n"
   ]
  },
  {
   "cell_type": "code",
   "execution_count": 30,
   "id": "6c93fe70",
   "metadata": {},
   "outputs": [
    {
     "data": {
      "image/png": "[encoded data removed]",
      "text/plain": [
       "<Figure size 640x480 with 1 Axes>"
      ]
     },
     "metadata": {},
     "output_type": "display_data"
    }
   ],
   "source": [
    "# Gráfica del progreso de los parámetros\n",
    "\n",
    "theta_history = np.array(theta_history)\n",
    "plt.plot(theta_history[:, 0], label=\"θ0\")\n",
    "plt.plot(theta_history[:, 1], label=\"θ1\")\n",
    "plt.xlabel(\"Iteración\")\n",
    "plt.ylabel(\"Valor de θ\")\n",
    "plt.legend()\n",
    "plt.title(\"Evolución de los parámetros\")\n",
    "plt.grid(True)\n",
    "plt.show()\n"
   ]
  },
  {
   "cell_type": "markdown",
   "id": "1af67019",
   "metadata": {},
   "source": [
    "#### ¿Cuál es el propósito del learning rate?\n",
    "\n",
    "El learning rate controla el tamaño de los pasos que da el algoritmo para minimizar la función de error.  \n",
    "Si es muy grande, puede saltarse el mínimo; si es muy pequeño, el proceso será lento.\n"
   ]
  }
 ],
 "metadata": {
  "kernelspec": {
   "display_name": "Python 3",
   "language": "python",
   "name": "python3"
  },
  "language_info": {
   "codemirror_mode": {
    "name": "ipython",
    "version": 3
   },
   "file_extension": ".py",
   "mimetype": "text/x-python",
   "name": "python",
   "nbconvert_exporter": "python",
   "pygments_lexer": "ipython3",
   "version": "3.9.13"
  }
 },
 "nbformat": 4,
 "nbformat_minor": 5
}
